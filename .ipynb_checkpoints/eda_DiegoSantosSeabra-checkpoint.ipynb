{
 "cells": [
  {
   "cell_type": "code",
   "execution_count": null,
   "metadata": {},
   "outputs": [],
   "source": [
    "# Imports\n",
    "import pandas as pd\n",
    "import numpy as np\n",
    "import requests\n",
    "import json\n",
    "\n",
    "# Chaves\n",
    "key_client = \"uswmg2pr2hwxtjdy89rwzw3afrrt35\"\n",
    "key_secret = \"x5uosghtgbcjbbhpg36egxcgofw45m\"\n",
    "auth_token = \"6ooa2sju094ex4nospcb63l62wf6pv\""
   ]
  },
  {
   "cell_type": "code",
   "execution_count": null,
   "metadata": {},
   "outputs": [],
   "source": [
    "# Token de Autenticação\n",
    "# r = requests.post(\"https://id.twitch.tv/oauth2/token?client_id=\" + key_client + \n",
    "#                   \"&client_secret=\" + key_secret + \"&grant_type=client_credentials\")\n",
    "# auth_token = r.json()['access_token']\n",
    "# auth_token"
   ]
  },
  {
   "cell_type": "code",
   "execution_count": null,
   "metadata": {},
   "outputs": [],
   "source": [
    "headers = {'Client-ID': key_client, \n",
    "           'Authorization': 'Bearer ' + auth_token, \n",
    "           'Accept': 'application/json'}"
   ]
  },
  {
   "cell_type": "code",
   "execution_count": null,
   "metadata": {},
   "outputs": [],
   "source": [
    "# data='fields name, aggregated_rating, aggregated_rating_count, first_release_date, game_engines;'\n",
    "data='fields name, game_engines, genres;'\n",
    "r = requests.post('https://api.igdb.com/v4/games', headers=headers, data=data)\n",
    "r.json()"
   ]
  },
  {
   "cell_type": "code",
   "execution_count": null,
   "metadata": {},
   "outputs": [],
   "source": [
    "data='fields name; where id = 13;'\n",
    "r = requests.post('https://api.igdb.com/v4/game_engines', headers=headers, data=data)\n",
    "r.json()"
   ]
  },
  {
   "cell_type": "code",
   "execution_count": null,
   "metadata": {},
   "outputs": [],
   "source": [
    "data='fields name, game_engines, genres; where name = \"Cuphead\";'\n",
    "r = requests.post('https://api.igdb.com/v4/games', headers=headers, data=data)\n",
    "r.json()"
   ]
  },
  {
   "cell_type": "code",
   "execution_count": null,
   "metadata": {},
   "outputs": [],
   "source": [
    "# Busca os dados de um jogo\n",
    "def getGameData(title):\n",
    "    data='fields name, genres, game_engines, aggregated_rating, aggregated_rating_count, game_modes, platforms, rating, rating_count; where name = \"' + title + '\";'\n",
    "    r = requests.post('https://api.igdb.com/v4/games', headers=headers, data=data)\n",
    "    return r.json()[0]"
   ]
  },
  {
   "cell_type": "code",
   "execution_count": null,
   "metadata": {},
   "outputs": [],
   "source": [
    "# Busca os gêneros de um jogo\n",
    "def getGenres(title):\n",
    "    pass"
   ]
  },
  {
   "cell_type": "code",
   "execution_count": 151,
   "metadata": {},
   "outputs": [],
   "source": [
    "# Busca a plataforma\n",
    "def getPlatform(uid):\n",
    "    data='fields abbreviation, name; where id = ' + str(uid) + ';'\n",
    "    r = requests.post('https://api.igdb.com/v4/platforms', headers=headers, data=data)\n",
    "    return r.json()[0]['abbreviation']"
   ]
  },
  {
   "cell_type": "code",
   "execution_count": 151,
   "metadata": {},
   "outputs": [],
   "source": [
    "# Busca o modo de jogo\n",
    "def getGameMode(uid):\n",
    "    data='fields name; where id = ' + str(uid) + ';'\n",
    "    r = requests.post('https://api.igdb.com/v4/game_modes', headers=headers, data=data)\n",
    "    return r.json()[0]"
   ]
  },
  {
   "cell_type": "code",
   "execution_count": 152,
   "metadata": {},
   "outputs": [],
   "source": [
    "gameData = getGameData('A Short Hike')"
   ]
  },
  {
   "cell_type": "code",
   "execution_count": 153,
   "metadata": {},
   "outputs": [
    {
     "data": {
      "text/plain": [
       "{'id': 116753,\n",
       " 'aggregated_rating': 77.5,\n",
       " 'aggregated_rating_count': 2,\n",
       " 'game_engines': [13],\n",
       " 'game_modes': [1],\n",
       " 'genres': [8, 31, 32],\n",
       " 'name': 'A Short Hike',\n",
       " 'platforms': [6, 14, 130],\n",
       " 'rating': 64.7399302542531,\n",
       " 'rating_count': 67}"
      ]
     },
     "execution_count": 153,
     "metadata": {},
     "output_type": "execute_result"
    }
   ],
   "source": [
    "gameData"
   ]
  },
  {
   "cell_type": "code",
   "execution_count": 156,
   "metadata": {},
   "outputs": [
    {
     "data": {
      "text/plain": [
       "'PC'"
      ]
     },
     "execution_count": 156,
     "metadata": {},
     "output_type": "execute_result"
    }
   ],
   "source": [
    "getPlatform(6)"
   ]
  },
  {
   "cell_type": "code",
   "execution_count": null,
   "metadata": {},
   "outputs": [],
   "source": [
    "# Preenche o dataset com os dados da API\n",
    "df = pd.read_csv('games_list.csv')\n",
    "for i in range(len(df)):\n",
    "    title = df.title[i]\n",
    "    gameData = getGameData(title)\n",
    "    \n",
    "# df['title'][0]"
   ]
  },
  {
   "cell_type": "markdown",
   "metadata": {},
   "source": [
    "# EDA - Análise Exploratória de Dados\n",
    "\n",
    "**Disciplina:** Tópicos Avançados em Intelifência Artificial <br>\n",
    "**Aluno:** Diego Santos Seabra <br>\n",
    "**Matrícula:** 0040251 <br>\n",
    "**Tema:** Jogos Indie "
   ]
  }
 ],
 "metadata": {
  "kernelspec": {
   "display_name": "Python 3",
   "language": "python",
   "name": "python3"
  },
  "language_info": {
   "codemirror_mode": {
    "name": "ipython",
    "version": 3
   },
   "file_extension": ".py",
   "mimetype": "text/x-python",
   "name": "python",
   "nbconvert_exporter": "python",
   "pygments_lexer": "ipython3",
   "version": "3.8.5"
  }
 },
 "nbformat": 4,
 "nbformat_minor": 4
}
